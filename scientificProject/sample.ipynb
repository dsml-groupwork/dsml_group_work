{
 "cells": [
  {
   "cell_type": "markdown",
   "id": "8a77807f92f26ee",
   "metadata": {},
   "source": [
    "# This is a sample Jupyter Notebook\n",
    "\n",
    "Below is an example of a code cell. \n",
    "Put your cursor into the cell and press Shift+Enter to execute it and select the next one, or click 'Run Cell' button.\n",
    "\n",
    "Press Double Shift to search everywhere for classes, files, tool windows, actions, and settings.\n",
    "\n",
    "To learn more about Jupyter Notebooks in PyCharm, see [help](https://www.jetbrains.com/help/pycharm/ipython-notebook-support.html).\n",
    "For an overview of PyCharm, go to Help -> Learn IDE features or refer to [our documentation](https://www.jetbrains.com/help/pycharm/getting-started.html)."
   ]
  },
  {
   "cell_type": "code",
   "execution_count": 1,
   "id": "fbc121e30a2defb3",
   "metadata": {
    "ExecuteTime": {
     "end_time": "2025-04-25T12:15:55.528325Z",
     "start_time": "2025-04-25T12:15:55.506147Z"
    }
   },
   "outputs": [
    {
     "name": "stdout",
     "output_type": "stream",
     "text": [
      "数据维度: (7905, 20)\n"
     ]
    }
   ],
   "source": [
    "# Step 1: 导入常用库\n",
    "import pandas as pd\n",
    "import numpy as np\n",
    "import matplotlib.pyplot as plt\n",
    "import seaborn as sns\n",
    "# 设置样式\n",
    "sns.set(style=\"whitegrid\")\n",
    "%matplotlib inline\n",
    "\n",
    "# 读取数据\n",
    "df = pd.read_csv('./data/train.csv')\n",
    "\n",
    "# 查看数据结构\n",
    "print(\"数据维度:\", df.shape)\n",
    "df.head()\n",
    "df['Age_years'] = df['Age'] / 365"
   ]
  },
  {
   "cell_type": "code",
   "execution_count": 2,
   "id": "4de085fe3091f984",
   "metadata": {
    "ExecuteTime": {
     "end_time": "2025-04-25T12:15:55.582401600Z",
     "start_time": "2025-04-22T09:07:24.220820Z"
    }
   },
   "outputs": [
    {
     "name": "stdout",
     "output_type": "stream",
     "text": [
      "\n",
      "数据类型和缺失值情况：\n",
      "<class 'pandas.core.frame.DataFrame'>\n",
      "RangeIndex: 7905 entries, 0 to 7904\n",
      "Data columns (total 21 columns):\n",
      " #   Column         Non-Null Count  Dtype  \n",
      "---  ------         --------------  -----  \n",
      " 0   id             7905 non-null   int64  \n",
      " 1   N_Days         7905 non-null   int64  \n",
      " 2   Drug           7905 non-null   object \n",
      " 3   Age            7905 non-null   int64  \n",
      " 4   Sex            7905 non-null   object \n",
      " 5   Ascites        7905 non-null   object \n",
      " 6   Hepatomegaly   7905 non-null   object \n",
      " 7   Spiders        7905 non-null   object \n",
      " 8   Edema          7905 non-null   object \n",
      " 9   Bilirubin      7905 non-null   float64\n",
      " 10  Cholesterol    7905 non-null   float64\n",
      " 11  Albumin        7905 non-null   float64\n",
      " 12  Copper         7905 non-null   float64\n",
      " 13  Alk_Phos       7905 non-null   float64\n",
      " 14  SGOT           7905 non-null   float64\n",
      " 15  Tryglicerides  7905 non-null   float64\n",
      " 16  Platelets      7905 non-null   float64\n",
      " 17  Prothrombin    7905 non-null   float64\n",
      " 18  Stage          7905 non-null   float64\n",
      " 19  Status         7905 non-null   object \n",
      " 20  Age_years      7905 non-null   float64\n",
      "dtypes: float64(11), int64(3), object(7)\n",
      "memory usage: 1.3+ MB\n",
      "None\n",
      "\n",
      "描述性统计：\n",
      "                id       N_Days           Age    Bilirubin  Cholesterol  \\\n",
      "count  7905.000000  7905.000000   7905.000000  7905.000000  7905.000000   \n",
      "mean   3952.000000  2030.173308  18373.146490     2.594485   350.561923   \n",
      "std    2282.121272  1094.233744   3679.958739     3.812960   195.379344   \n",
      "min       0.000000    41.000000   9598.000000     0.300000   120.000000   \n",
      "25%    1976.000000  1230.000000  15574.000000     0.700000   248.000000   \n",
      "50%    3952.000000  1831.000000  18713.000000     1.100000   298.000000   \n",
      "75%    5928.000000  2689.000000  20684.000000     3.000000   390.000000   \n",
      "max    7904.000000  4795.000000  28650.000000    28.000000  1775.000000   \n",
      "\n",
      "           Albumin       Copper      Alk_Phos         SGOT  Tryglicerides  \\\n",
      "count  7905.000000  7905.000000   7905.000000  7905.000000    7905.000000   \n",
      "mean      3.548323    83.902846   1816.745250   114.604602     115.340164   \n",
      "std       0.346171    75.899266   1903.750657    48.790945      52.530402   \n",
      "min       1.960000     4.000000    289.000000    26.350000      33.000000   \n",
      "25%       3.350000    39.000000    834.000000    75.950000      84.000000   \n",
      "50%       3.580000    63.000000   1181.000000   108.500000     104.000000   \n",
      "75%       3.770000   102.000000   1857.000000   137.950000     139.000000   \n",
      "max       4.640000   588.000000  13862.400000   457.250000     598.000000   \n",
      "\n",
      "         Platelets  Prothrombin        Stage    Age_years  \n",
      "count  7905.000000  7905.000000  7905.000000  7905.000000  \n",
      "mean    265.228969    10.629462     3.032511    50.337388  \n",
      "std      87.465579     0.781735     0.866511    10.082079  \n",
      "min      62.000000     9.000000     1.000000    26.295890  \n",
      "25%     211.000000    10.000000     2.000000    42.668493  \n",
      "50%     265.000000    10.600000     3.000000    51.268493  \n",
      "75%     316.000000    11.000000     4.000000    56.668493  \n",
      "max     563.000000    18.000000     4.000000    78.493151  \n",
      "\n",
      "分类变量分布（前5个）：\n",
      "Placebo            4010\n",
      "D-penicillamine    3895\n",
      "Name: Drug, dtype: int64\n",
      "------\n",
      "F    7336\n",
      "M     569\n",
      "Name: Sex, dtype: int64\n",
      "------\n",
      "N    7525\n",
      "Y     380\n",
      "Name: Ascites, dtype: int64\n",
      "------\n",
      "Y    4042\n",
      "N    3863\n",
      "Name: Hepatomegaly, dtype: int64\n",
      "------\n",
      "N    5966\n",
      "Y    1939\n",
      "Name: Spiders, dtype: int64\n",
      "------\n"
     ]
    }
   ],
   "source": [
    "# Step 2: 初步分析\n",
    "print(\"\\n数据类型和缺失值情况：\")\n",
    "print(df.info())\n",
    "\n",
    "print(\"\\n描述性统计：\")\n",
    "print(df.describe())\n",
    "\n",
    "print(\"\\n分类变量分布（前5个）：\")\n",
    "for col in df.select_dtypes(include='object').columns[:5]:\n",
    "    print(df[col].value_counts())\n",
    "    print(\"------\")\n"
   ]
  },
  {
   "cell_type": "code",
   "execution_count": 3,
   "id": "b9aca3581602499d",
   "metadata": {
    "ExecuteTime": {
     "end_time": "2025-04-25T12:15:55.598352700Z",
     "start_time": "2025-04-22T09:00:45.708387Z"
    }
   },
   "outputs": [
    {
     "data": {
      "image/png": "[encoded data removed]",
      "text/plain": [
       "<Figure size 864x432 with 1 Axes>"
      ]
     },
     "metadata": {
      "needs_background": "light"
     },
     "output_type": "display_data"
    },
    {
     "name": "stdout",
     "output_type": "stream",
     "text": [
      "Missing Value Heatmap：\n",
      "Series([], dtype: float64)\n"
     ]
    }
   ],
   "source": [
    "# Step 3: 可视化缺失值情况\n",
    "plt.figure(figsize=(12,6))\n",
    "sns.heatmap(df.isnull(), cbar=False, cmap=\"viridis\")\n",
    "plt.title(\"Missing Value Heatmap\")\n",
    "plt.show()\n",
    "\n",
    "# 缺失比例\n",
    "missing = df.isnull().mean().sort_values(ascending=False)\n",
    "print(\"Missing Value Heatmap：\")\n",
    "print(missing[missing > 0])\n",
    "\n",
    "#运行结果说明：数据中无缺失值"
   ]
  },
  {
   "cell_type": "code",
   "execution_count": 4,
   "id": "8b72d450aeb977ba",
   "metadata": {
    "ExecuteTime": {
     "end_time": "2025-04-25T12:15:55.601673400Z",
     "start_time": "2025-04-22T09:03:01.026189Z"
    }
   },
   "outputs": [
    {
     "data": {
      "image/png": "[encoded data removed]",
      "text/plain": [
       "<Figure size 432x288 with 1 Axes>"
      ]
     },
     "metadata": {
      "needs_background": "light"
     },
     "output_type": "display_data"
    },
    {
     "name": "stdout",
     "output_type": "stream",
     "text": [
      "Class Proportions:\n",
      "C     0.628083\n",
      "D     0.337128\n",
      "CL    0.034788\n",
      "Name: Status, dtype: float64\n"
     ]
    }
   ],
   "source": [
    "# Step 4: 查看目标变量分布\n",
    "# Step 4: Check target variable distribution\n",
    "df['Status'].value_counts().plot(kind='bar', color='skyblue')\n",
    "plt.title(\"Class Distribution of Status\")\n",
    "plt.xlabel(\"Class\")\n",
    "plt.ylabel(\"Count\")\n",
    "plt.xticks(rotation=0)\n",
    "plt.show()\n",
    "\n",
    "# Display class proportions\n",
    "print(\"Class Proportions:\")\n",
    "print(df['Status'].value_counts(normalize=True))\n"
   ]
  },
  {
   "cell_type": "markdown",
   "id": "5621d3ed5f22b3c8",
   "metadata": {},
   "source": [
    "输出结果说明了你的目标变量 Status 是一个严重不平衡的多分类问题，我们来具体解读一下：\n",
    "CL 类的样本极少，仅占不到 4%，这是一个严重长尾类别，需要特别处理。"
   ]
  },
  {
   "cell_type": "code",
   "execution_count": 5,
   "id": "1ae6505514669706",
   "metadata": {
    "ExecuteTime": {
     "end_time": "2025-04-25T12:15:55.601673400Z",
     "start_time": "2025-04-22T09:05:39.528062Z"
    }
   },
   "outputs": [
    {
     "data": {
      "image/png": "[encoded data removed]",
      "text/plain": [
       "<Figure size 576x288 with 1 Axes>"
      ]
     },
     "metadata": {
      "needs_background": "light"
     },
     "output_type": "display_data"
    },
    {
     "data": {
      "image/png": "[encoded data removed]",
      "text/plain": [
       "<Figure size 576x288 with 1 Axes>"
      ]
     },
     "metadata": {
      "needs_background": "light"
     },
     "output_type": "display_data"
    },
    {
     "data": {
      "image/png": "[encoded data removed]",
      "text/plain": [
       "<Figure size 576x288 with 1 Axes>"
      ]
     },
     "metadata": {
      "needs_background": "light"
     },
     "output_type": "display_data"
    },
    {
     "data": {
      "image/png": "[encoded data removed]",
      "text/plain": [
       "<Figure size 576x288 with 1 Axes>"
      ]
     },
     "metadata": {
      "needs_background": "light"
     },
     "output_type": "display_data"
    }
   ],
   "source": [
    "# Step 5: 可视化几个关键数值特征的分布（如有）\n",
    "num_cols = df.select_dtypes(include=['float64', 'int64']).columns.tolist()\n",
    "\n",
    "# 示例绘图：前4个数值特征的分布\n",
    "for col in num_cols[:4]:\n",
    "    plt.figure(figsize=(8,4))\n",
    "    sns.histplot(df[col].dropna(), kde=True, bins=30)\n",
    "    plt.title(f\"{col} distribution\")\n",
    "    plt.show()\n"
   ]
  },
  {
   "cell_type": "code",
   "execution_count": 6,
   "id": "115e234af7b4e6e4",
   "metadata": {
    "ExecuteTime": {
     "end_time": "2025-04-25T12:15:55.601673400Z",
     "start_time": "2025-04-22T09:09:20.792416Z"
    }
   },
   "outputs": [
    {
     "name": "stdout",
     "output_type": "stream",
     "text": [
      "特征维度： (7905, 20)\n",
      "目标变量类别数： 3\n"
     ]
    }
   ],
   "source": [
    "# Step 6: 拆分特征和目标\n",
    "X = df.drop(columns=['Status'])\n",
    "y = df['Status']\n",
    "\n",
    "print(\"特征维度：\", X.shape)\n",
    "print(\"目标变量类别数：\", y.nunique())"
   ]
  },
  {
   "cell_type": "code",
   "execution_count": 7,
   "id": "e9f8647b36b2c2d8",
   "metadata": {
    "ExecuteTime": {
     "end_time": "2025-04-25T12:15:55.601673400Z",
     "start_time": "2025-04-22T09:33:20.310113Z"
    }
   },
   "outputs": [
    {
     "name": "stdout",
     "output_type": "stream",
     "text": [
      "Saved processed data: (7905, 20)\n"
     ]
    },
    {
     "data": {
      "text/html": [
       "<div>\n",
       "<style scoped>\n",
       "    .dataframe tbody tr th:only-of-type {\n",
       "        vertical-align: middle;\n",
       "    }\n",
       "\n",
       "    .dataframe tbody tr th {\n",
       "        vertical-align: top;\n",
       "    }\n",
       "\n",
       "    .dataframe thead th {\n",
       "        text-align: right;\n",
       "    }\n",
       "</style>\n",
       "<table border=\"1\" class=\"dataframe\">\n",
       "  <thead>\n",
       "    <tr style=\"text-align: right;\">\n",
       "      <th></th>\n",
       "      <th>N_Days</th>\n",
       "      <th>Age</th>\n",
       "      <th>Bilirubin</th>\n",
       "      <th>Cholesterol</th>\n",
       "      <th>Albumin</th>\n",
       "      <th>Copper</th>\n",
       "      <th>Alk_Phos</th>\n",
       "      <th>SGOT</th>\n",
       "      <th>Tryglicerides</th>\n",
       "      <th>Platelets</th>\n",
       "      <th>Prothrombin</th>\n",
       "      <th>Stage</th>\n",
       "      <th>Age_years</th>\n",
       "      <th>Drug</th>\n",
       "      <th>Sex</th>\n",
       "      <th>Ascites</th>\n",
       "      <th>Hepatomegaly</th>\n",
       "      <th>Spiders</th>\n",
       "      <th>Edema</th>\n",
       "      <th>Status</th>\n",
       "    </tr>\n",
       "  </thead>\n",
       "  <tbody>\n",
       "    <tr>\n",
       "      <th>0</th>\n",
       "      <td>-0.942430</td>\n",
       "      <td>0.858448</td>\n",
       "      <td>-0.077237</td>\n",
       "      <td>-0.176908</td>\n",
       "      <td>-0.572940</td>\n",
       "      <td>1.160785</td>\n",
       "      <td>-0.113334</td>\n",
       "      <td>1.336304</td>\n",
       "      <td>-0.996442</td>\n",
       "      <td>1.472341</td>\n",
       "      <td>-1.189049</td>\n",
       "      <td>-0.037522</td>\n",
       "      <td>0.858448</td>\n",
       "      <td>0</td>\n",
       "      <td>1</td>\n",
       "      <td>0</td>\n",
       "      <td>0</td>\n",
       "      <td>0</td>\n",
       "      <td>0</td>\n",
       "      <td>2</td>\n",
       "    </tr>\n",
       "    <tr>\n",
       "      <th>1</th>\n",
       "      <td>0.497025</td>\n",
       "      <td>0.234760</td>\n",
       "      <td>-0.444429</td>\n",
       "      <td>0.068784</td>\n",
       "      <td>-0.024043</td>\n",
       "      <td>-0.275420</td>\n",
       "      <td>-0.197909</td>\n",
       "      <td>0.414968</td>\n",
       "      <td>-0.520497</td>\n",
       "      <td>1.095026</td>\n",
       "      <td>0.474024</td>\n",
       "      <td>-0.037522</td>\n",
       "      <td>0.234760</td>\n",
       "      <td>1</td>\n",
       "      <td>0</td>\n",
       "      <td>0</td>\n",
       "      <td>0</td>\n",
       "      <td>0</td>\n",
       "      <td>0</td>\n",
       "      <td>0</td>\n",
       "    </tr>\n",
       "    <tr>\n",
       "      <th>2</th>\n",
       "      <td>1.277529</td>\n",
       "      <td>-1.262634</td>\n",
       "      <td>0.185043</td>\n",
       "      <td>-0.263923</td>\n",
       "      <td>0.004846</td>\n",
       "      <td>0.620561</td>\n",
       "      <td>-0.413812</td>\n",
       "      <td>0.097266</td>\n",
       "      <td>-1.243933</td>\n",
       "      <td>-0.757248</td>\n",
       "      <td>1.369525</td>\n",
       "      <td>1.116605</td>\n",
       "      <td>-1.262634</td>\n",
       "      <td>1</td>\n",
       "      <td>0</td>\n",
       "      <td>0</td>\n",
       "      <td>1</td>\n",
       "      <td>1</td>\n",
       "      <td>2</td>\n",
       "      <td>2</td>\n",
       "    </tr>\n",
       "    <tr>\n",
       "      <th>3</th>\n",
       "      <td>0.498852</td>\n",
       "      <td>0.023603</td>\n",
       "      <td>-0.523113</td>\n",
       "      <td>-0.484022</td>\n",
       "      <td>-0.139601</td>\n",
       "      <td>-0.341301</td>\n",
       "      <td>-0.086017</td>\n",
       "      <td>-0.887610</td>\n",
       "      <td>-0.368194</td>\n",
       "      <td>0.043117</td>\n",
       "      <td>0.090238</td>\n",
       "      <td>-0.037522</td>\n",
       "      <td>0.023603</td>\n",
       "      <td>1</td>\n",
       "      <td>0</td>\n",
       "      <td>0</td>\n",
       "      <td>0</td>\n",
       "      <td>0</td>\n",
       "      <td>0</td>\n",
       "      <td>0</td>\n",
       "    </tr>\n",
       "    <tr>\n",
       "      <th>4</th>\n",
       "      <td>-1.135271</td>\n",
       "      <td>-0.466107</td>\n",
       "      <td>-0.391973</td>\n",
       "      <td>-0.023351</td>\n",
       "      <td>0.293739</td>\n",
       "      <td>-0.275420</td>\n",
       "      <td>-0.333965</td>\n",
       "      <td>0.224347</td>\n",
       "      <td>-0.368194</td>\n",
       "      <td>0.374697</td>\n",
       "      <td>-0.037691</td>\n",
       "      <td>1.116605</td>\n",
       "      <td>-0.466107</td>\n",
       "      <td>1</td>\n",
       "      <td>0</td>\n",
       "      <td>0</td>\n",
       "      <td>1</td>\n",
       "      <td>0</td>\n",
       "      <td>0</td>\n",
       "      <td>0</td>\n",
       "    </tr>\n",
       "  </tbody>\n",
       "</table>\n",
       "</div>"
      ],
      "text/plain": [
       "     N_Days       Age  Bilirubin  Cholesterol   Albumin    Copper  Alk_Phos  \\\n",
       "0 -0.942430  0.858448  -0.077237    -0.176908 -0.572940  1.160785 -0.113334   \n",
       "1  0.497025  0.234760  -0.444429     0.068784 -0.024043 -0.275420 -0.197909   \n",
       "2  1.277529 -1.262634   0.185043    -0.263923  0.004846  0.620561 -0.413812   \n",
       "3  0.498852  0.023603  -0.523113    -0.484022 -0.139601 -0.341301 -0.086017   \n",
       "4 -1.135271 -0.466107  -0.391973    -0.023351  0.293739 -0.275420 -0.333965   \n",
       "\n",
       "       SGOT  Tryglicerides  Platelets  Prothrombin     Stage  Age_years  Drug  \\\n",
       "0  1.336304      -0.996442   1.472341    -1.189049 -0.037522   0.858448     0   \n",
       "1  0.414968      -0.520497   1.095026     0.474024 -0.037522   0.234760     1   \n",
       "2  0.097266      -1.243933  -0.757248     1.369525  1.116605  -1.262634     1   \n",
       "3 -0.887610      -0.368194   0.043117     0.090238 -0.037522   0.023603     1   \n",
       "4  0.224347      -0.368194   0.374697    -0.037691  1.116605  -0.466107     1   \n",
       "\n",
       "   Sex  Ascites  Hepatomegaly  Spiders  Edema  Status  \n",
       "0    1        0             0        0      0       2  \n",
       "1    0        0             0        0      0       0  \n",
       "2    0        0             1        1      2       2  \n",
       "3    0        0             0        0      0       0  \n",
       "4    0        0             1        0      0       0  "
      ]
     },
     "execution_count": 7,
     "metadata": {},
     "output_type": "execute_result"
    }
   ],
   "source": [
    "#建模前的最后准备\n",
    "from sklearn.preprocessing import LabelEncoder, StandardScaler\n",
    "\n",
    "test_df = pd.read_csv(\"./data/test.csv\")\n",
    "\n",
    "# Step 1: Drop ID column if it exists\n",
    "X = X.drop(columns=['id'], errors='ignore')\n",
    "\n",
    "# Step 2: Convert Age from days to years (if not already converted)\n",
    "if X['Age'].max() > 200:  # sanity check\n",
    "    X['Age'] = X['Age'] / 365\n",
    "\n",
    "# Step 3: Encode target variable\n",
    "label_encoder = LabelEncoder()\n",
    "y_encoded = label_encoder.fit_transform(y)\n",
    "\n",
    "# Step 4: Scale numeric features\n",
    "numeric_cols = X.select_dtypes(include=['float64', 'int64']).columns.tolist()\n",
    "scaler = StandardScaler()\n",
    "X_scaled = pd.DataFrame(scaler.fit_transform(X[numeric_cols]), columns=numeric_cols)\n",
    "\n",
    "# Step 5: Encode categorical features\n",
    "X_encoded = X_scaled.copy()\n",
    "categorical_cols = X.select_dtypes(include='object').columns.tolist()\n",
    "\n",
    "for col in categorical_cols:\n",
    "    le = LabelEncoder()\n",
    "    X_encoded[col] = le.fit_transform(X[col].astype(str))\n",
    "\n",
    "# Step 6: Add encoded target\n",
    "X_encoded['Status'] = y_encoded\n",
    "\n",
    "# Step 7: Save to CSV\n",
    "X_encoded.to_csv(\"./data/X_train_processed.csv\", index=False)\n",
    "\n",
    "print(\"Saved processed data:\", X_encoded.shape)\n",
    "X_encoded.head()\n",
    "\n"
   ]
  },
  {
   "cell_type": "markdown",
   "id": "95c3cc9ee3ce7cdf",
   "metadata": {},
   "source": [
    "## 🧾 说明：X_train_processed.csv 数据集结构与预处理说明\n",
    "\n",
    "### ✅ 一、这是一份怎样的表格？\n",
    "\n",
    "这是一个经过预处理的训练数据集，已准备好用于多分类机器学习任务。主要特点包括：\n",
    "\n",
    "- 所有数值特征均已使用 `StandardScaler` 标准化（均值为0，方差为1）\n",
    "- 所有类别特征均使用 `LabelEncoder` 数值化（字符串变整数）\n",
    "- 每一行代表一位肝硬化患者的观测数据\n",
    "- 最后一列 `Status` 是三分类目标变量，编码为 0、1、2，分别代表：\n",
    "  - `0` → C（Censored，仍然存活）\n",
    "  - `1` → CL（Censored with Liver transplant，肝移植存活）\n",
    "  - `2` → D（Deceased，死亡）\n",
    "\n",
    "---\n",
    "\n",
    "### 📊 二、各列字段释义\n",
    "\n",
    "#### 数值型特征（已标准化）\n",
    "| 列名           | 含义                                       |\n",
    "|----------------|--------------------------------------------|\n",
    "| N_Days         | 随访时间（单位：天）                       |\n",
    "| Age            | 年龄（已转化为年）                          |\n",
    "| Bilirubin      | 总胆红素（肝功能指标）                     |\n",
    "| Cholesterol    | 胆固醇水平                                  |\n",
    "| Albumin        | 白蛋白含量（反映肝脏合成功能）              |\n",
    "| Copper         | 铜元素浓度                                  |\n",
    "| Alk_Phos       | 碱性磷酸酶                                  |\n",
    "| SGOT           | 谷草转氨酶                                  |\n",
    "| Tryglicerides  | 甘油三酯                                     |\n",
    "| Platelets      | 血小板数量                                   |\n",
    "| Prothrombin    | 凝血酶原时间（肝脏合成功能）                |\n",
    "| Stage          | 肝纤维化分期（1~4）                         |\n",
    "| Age_years      | 年龄（未标准化，临时列，**建议删除以避免重复**） |\n",
    "\n",
    "#### 类别型特征（已 Label 编码为整数）\n",
    "| 列名         | 原始含义                        | 编码含义                  |\n",
    "|--------------|----------------------------------|---------------------------|\n",
    "| Drug         | 用药（Placebo / D-penicillamine）| 0 = Placebo, 1 = D-pen    |\n",
    "| Sex          | 性别                             | 0 = Female, 1 = Male      |\n",
    "| Ascites      | 是否腹水                         | 0 = N, 1 = Y              |\n",
    "| Hepatomegaly | 是否肝肿大                       | 0 = N, 1 = Y              |\n",
    "| Spiders      | 是否有蜘蛛痣                     | 0 = N, 1 = Y              |\n",
    "| Edema        | 水肿程度                         | 0 = 无, 1 = 轻微, 2 = 明显 |\n",
    "\n",
    "#### 目标变量\n",
    "| 列名   | 含义                        | 编码 |\n",
    "|--------|-----------------------------|------|\n",
    "| Status | 患者最终状态（多分类目标） | 0=C, 1=CL, 2=D |\n",
    "\n",
    "---\n",
    "\n",
    "### 🔧 三、你对原始数据做了哪些预处理？\n",
    "\n",
    "| 步骤                        | 操作内容                                       | 目的                             |\n",
    "|-----------------------------|------------------------------------------------|----------------------------------|\n",
    "| 删除 ID 列                  | `X.drop(columns=['id'])`                       | 移除无意义的标识列                |\n",
    "| 年龄单位转换                | `X['Age'] = X['Age'] / 365`                    | 便于理解和处理，转为“年”单位       |\n",
    "| Label 编码类别变量          | `LabelEncoder` 处理 `Sex`, `Drug` 等           | 模型只能处理数值型特征            |\n",
    "| 数值标准化                  | `StandardScaler` 对所有 float/int 列处理       | 使特征具有统一尺度                |\n",
    "| 合并目标变量并导出为 CSV    | `X_encoded['Status'] = y_encoded`              | 保留目标列，保存为训练集文件       |\n",
    "\n"
   ]
  },
  {
   "cell_type": "code",
   "execution_count": null,
   "id": "9dd6b466-36d9-4d52-80b9-4d2362df1843",
   "metadata": {},
   "outputs": [],
   "source": []
  },
  {
   "cell_type": "code",
   "execution_count": 11,
   "id": "1c0cfaf3fccde0cd",
   "metadata": {},
   "outputs": [
    {
     "name": "stdout",
     "output_type": "stream",
     "text": [
      "Epoch 1, Training Loss: 112.4892\n",
      "Validation Accuracy: 79.82%\n",
      "Validation Precision: 0.82\n",
      "Validation Recall: 0.80\n",
      "Validation F1 Score: 0.78\n",
      "Epoch 2, Training Loss: 103.5670\n",
      "Validation Accuracy: 80.08%\n",
      "Validation Precision: 0.82\n",
      "Validation Recall: 0.80\n",
      "Validation F1 Score: 0.78\n",
      "Epoch 3, Training Loss: 102.0431\n",
      "Validation Accuracy: 81.21%\n",
      "Validation Precision: 0.83\n",
      "Validation Recall: 0.81\n",
      "Validation F1 Score: 0.80\n",
      "Epoch 4, Training Loss: 100.6308\n",
      "Validation Accuracy: 80.33%\n",
      "Validation Precision: 0.82\n",
      "Validation Recall: 0.80\n",
      "Validation F1 Score: 0.78\n",
      "Epoch 5, Training Loss: 100.1624\n",
      "Validation Accuracy: 80.52%\n",
      "Validation Precision: 0.82\n",
      "Validation Recall: 0.80\n",
      "Validation F1 Score: 0.79\n",
      "Epoch 6, Training Loss: 97.7260\n",
      "Validation Accuracy: 81.47%\n",
      "Validation Precision: 0.83\n",
      "Validation Recall: 0.81\n",
      "Validation F1 Score: 0.80\n",
      "Epoch 7, Training Loss: 96.1160\n",
      "Validation Accuracy: 81.21%\n",
      "Validation Precision: 0.83\n",
      "Validation Recall: 0.81\n",
      "Validation F1 Score: 0.80\n",
      "Epoch 8, Training Loss: 94.9144\n",
      "Validation Accuracy: 81.97%\n",
      "Validation Precision: 0.83\n",
      "Validation Recall: 0.82\n",
      "Validation F1 Score: 0.81\n",
      "Epoch 9, Training Loss: 95.9086\n",
      "Validation Accuracy: 82.42%\n",
      "Validation Precision: 0.84\n",
      "Validation Recall: 0.82\n",
      "Validation F1 Score: 0.81\n",
      "Epoch 10, Training Loss: 93.5514\n",
      "Validation Accuracy: 82.10%\n",
      "Validation Precision: 0.84\n",
      "Validation Recall: 0.82\n",
      "Validation F1 Score: 0.80\n"
     ]
    }
   ],
   "source": [
    "import pandas as pd\n",
    "import torch\n",
    "import torch.nn as nn\n",
    "import torch.optim as optim\n",
    "from torch.utils.data import TensorDataset, DataLoader\n",
    "from sklearn.model_selection import train_test_split\n",
    "from sklearn.metrics import precision_score, recall_score, f1_score\n",
    "\n",
    "#读文件\n",
    "df = pd.read_csv(\"./data/X_train_processed.csv\")\n",
    "\n",
    "# 拆分特征和标签\n",
    "X = df.drop(columns=['Status']).values\n",
    "y = df['Status'].values\n",
    "\n",
    "# 划分训练集\n",
    "X_train, X_val, y_train, y_val = train_test_split(X, y, test_size=0.2, random_state=42)\n",
    "\n",
    "# 转为 tensor\n",
    "X_train_tensor = torch.tensor(X_train, dtype=torch.float32)\n",
    "y_train_tensor = torch.tensor(y_train, dtype=torch.long)\n",
    "X_val_tensor = torch.tensor(X_val, dtype=torch.float32)\n",
    "y_val_tensor = torch.tensor(y_val, dtype=torch.long)\n",
    "\n",
    "# 构造 Dataloader\n",
    "train_dataset = TensorDataset(X_train_tensor, y_train_tensor)\n",
    "val_dataset = TensorDataset(X_val_tensor, y_val_tensor)\n",
    "train_loader = DataLoader(train_dataset, batch_size=32, shuffle=True)\n",
    "val_loader = DataLoader(val_dataset, batch_size=32, shuffle=False)\n",
    "\n",
    "#模型在这\n",
    "class FaceClassifier(nn.Module):\n",
    "    def __init__(self, input_size, output_size=3, droput_rate=0.3):\n",
    "        super(FaceClassifier, self).__init__()\n",
    "        self.hidden_layers = nn.Sequential(\n",
    "            nn.Linear(input_size, 1024),\n",
    "            nn.BatchNorm1d(1024),\n",
    "            nn.ReLU(),\n",
    "            nn.Dropout(droput_rate),\n",
    "\n",
    "            nn.Linear(1024, 512),\n",
    "            nn.BatchNorm1d(512),\n",
    "            nn.ReLU(),\n",
    "            nn.Dropout(droput_rate),\n",
    "\n",
    "            nn.Linear(512, 256),\n",
    "            nn.BatchNorm1d(256),\n",
    "            nn.ReLU(),\n",
    "            nn.Dropout(droput_rate),\n",
    "\n",
    "        \n",
    "        )\n",
    "        self.output_layer = nn.Linear(256, output_size)\n",
    "\n",
    "    def forward(self, x):\n",
    "        x = self.hidden_layers(x)\n",
    "        x = self.output_layer(x)\n",
    "        return x\n",
    "\n",
    "#初始化\n",
    "input_size = X.shape[1]\n",
    "model = FaceClassifier(input_size=input_size, output_size=3)\n",
    "loss_fn = nn.CrossEntropyLoss()\n",
    "optimizer = optim.Adam(model.parameters(), lr=0.001)\n",
    "\n",
    "#validate_model\n",
    "def validate_model(model, val_loader):\n",
    "    model.eval()\n",
    "    correct = 0\n",
    "    total = 0\n",
    "    precision = 0\n",
    "    recall = 0\n",
    "    f1 = 0\n",
    "    with torch.no_grad():\n",
    "        for xb, yb in val_loader:\n",
    "            preds = model(xb)\n",
    "            _, predicted = torch.max(preds, dim=1)\n",
    "            correct += (predicted == yb).sum().item()\n",
    "            total += yb.size(0)\n",
    "            \n",
    "            # 计算其他指标\n",
    "            precision += precision_score(yb.cpu(), predicted.cpu(), average='weighted', zero_division=1)\n",
    "            recall += recall_score(yb.cpu(), predicted.cpu(), average='weighted', zero_division=1)\n",
    "            f1 += f1_score(yb.cpu(), predicted.cpu(), average='weighted', zero_division=1)\n",
    "\n",
    "    accuracy = correct / total\n",
    "    avg_precision = precision / len(val_loader)\n",
    "    avg_recall = recall / len(val_loader)\n",
    "    avg_f1 = f1 / len(val_loader)\n",
    "\n",
    "    print(f\"Validation Accuracy: {accuracy:.2%}\")\n",
    "    print(f\"Validation Precision: {avg_precision:.2f}\")\n",
    "    print(f\"Validation Recall: {avg_recall:.2f}\")\n",
    "    print(f\"Validation F1 Score: {avg_f1:.2f}\")\n",
    "    return accuracy\n",
    "\n",
    "#训练\n",
    "for epoch in range(10):\n",
    "    model.train()\n",
    "    total_loss = 0\n",
    "    for xb, yb in train_loader:\n",
    "        optimizer.zero_grad()\n",
    "        preds = model(xb)\n",
    "        loss = loss_fn(preds, yb)\n",
    "        loss.backward()\n",
    "        optimizer.step()\n",
    "        total_loss += loss.item()\n",
    "    \n",
    "    print(f\"Epoch {epoch+1}, Training Loss: {total_loss:.4f}\")\n",
    "    validate_model(model, val_loader)"
   ]
  },
  {
   "cell_type": "code",
   "execution_count": 12,
   "id": "8f71c161-cbe4-49e4-bc25-368a06a22c13",
   "metadata": {},
   "outputs": [
    {
     "name": "stdout",
     "output_type": "stream",
     "text": [
      "CatBoost MAE: 0.4476\n",
      "------ CatBoost Model Detailed Evaluation ------\n",
      "MAE: 0.4476\n",
      "MSE: 0.4227\n",
      "RMSE: 0.6501\n",
      "R² Score: 0.5315\n"
     ]
    },
    {
     "data": {
      "image/png": "[encoded data removed]",
      "text/plain": [
       "<Figure size 720x432 with 1 Axes>"
      ]
     },
     "metadata": {
      "needs_background": "light"
     },
     "output_type": "display_data"
    }
   ],
   "source": [
    "# ---------------------------------------------------\n",
    "# Section by Mingxin Cao\n",
    "# Model 3: CatBoost Regressor\n",
    "# ---------------------------------------------------\n",
    "\n",
    "from catboost import CatBoostRegressor\n",
    "from sklearn.metrics import mean_absolute_error\n",
    "\n",
    "cat_model = CatBoostRegressor(verbose=0, random_state=42)\n",
    "\n",
    "# train\n",
    "cat_model.fit(X_train, y_train)\n",
    "\n",
    "# prediction\n",
    "y_pred_cat = cat_model.predict(X_val)\n",
    "\n",
    "# assessment\n",
    "mae = mean_absolute_error(y_val, y_pred_cat)\n",
    "print(f\"CatBoost MAE: {mae:.4f}\")\n",
    "\n",
    "# More evaluations\n",
    "from sklearn.metrics import mean_squared_error, r2_score\n",
    "import numpy as np\n",
    "\n",
    "mse = mean_squared_error(y_val, y_pred_cat)\n",
    "rmse = np.sqrt(mse)\n",
    "r2 = r2_score(y_val, y_pred_cat)\n",
    "\n",
    "print(\"------ CatBoost Model Detailed Evaluation ------\")\n",
    "print(f\"MAE: {mae:.4f}\")\n",
    "print(f\"MSE: {mse:.4f}\")\n",
    "print(f\"RMSE: {rmse:.4f}\")\n",
    "print(f\"R² Score: {r2:.4f}\")\n",
    "\n",
    "# Visualization of Feature Importance\n",
    "import matplotlib.pyplot as plt\n",
    "\n",
    "features = [f'feature_{i}' for i in range(X_train.shape[1])]\n",
    "importances = cat_model.get_feature_importance()\n",
    "\n",
    "plt.figure(figsize=(10, 6))\n",
    "plt.barh(features, importances)\n",
    "plt.xlabel(\"Feature Importance Score\")\n",
    "plt.title(\"CatBoost Feature Importance\")\n",
    "plt.gca().invert_yaxis()\n",
    "plt.show()"
   ]
  },
  {
   "cell_type": "code",
   "execution_count": null,
   "id": "4d17409e-9d2f-4245-b91f-4d4aef13c8ae",
   "metadata": {},
   "outputs": [],
   "source": []
  }
 ],
 "metadata": {
  "kernelspec": {
   "display_name": "Python (transformer-env)",
   "language": "python",
   "name": "transformer-env"
  },
  "language_info": {
   "codemirror_mode": {
    "name": "ipython",
    "version": 3
   },
   "file_extension": ".py",
   "mimetype": "text/x-python",
   "name": "python",
   "nbconvert_exporter": "python",
   "pygments_lexer": "ipython3",
   "version": "3.6.13"
  }
 },
 "nbformat": 4,
 "nbformat_minor": 5
}
